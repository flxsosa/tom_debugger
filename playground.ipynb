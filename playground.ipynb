{
 "cells": [
  {
   "cell_type": "code",
   "execution_count": 1,
   "metadata": {},
   "outputs": [
    {
     "name": "stderr",
     "output_type": "stream",
     "text": [
      "/Users/lollipop/projects/tom_debugger/.venv/lib/python3.12/site-packages/tqdm/auto.py:21: TqdmWarning: IProgress not found. Please update jupyter and ipywidgets. See https://ipywidgets.readthedocs.io/en/stable/user_install.html\n",
      "  from .autonotebook import tqdm as notebook_tqdm\n"
     ]
    }
   ],
   "source": [
    "import os\n",
    "if 'model' not in os.getcwd():\n",
    "    os.chdir('model')\n",
    "from ProbSolver import ProblemSolver, argmax, argmin"
   ]
  },
  {
   "cell_type": "code",
   "execution_count": 2,
   "metadata": {},
   "outputs": [],
   "source": [
    "# Example story C\n",
    "story = \"\"\"1 Ella entered the master_bedroom.\n",
    "2 Ava entered the master_bedroom.\n",
    "3 The onion is in the envelope.\n",
    "4 The envelope is in the master_bedroom.\n",
    "5 Ella exited the master_bedroom.\n",
    "6 Ava moved the onion to the box.\n",
    "7 The box is in the master_bedroom.\n",
    "8 Ava exited the master_bedroom.\n",
    "9 Ella entered the hallway.\"\"\"\n",
    "\n",
    "# Example query P(q | X)\n",
    "question = \"Where will Ella look for the onion?\"\n",
    "\n",
    "# The choices of the question, q \\in choices\n",
    "choices = [\"envelope\", \"box\"] # Correct answer is envelope.\n",
    "\n",
    "# Dataset metadata\n",
    "dataset_name = \"test\"\n",
    "episode_name = \"test_0\"\n",
    "verbose = False"
   ]
  },
  {
   "cell_type": "code",
   "execution_count": 3,
   "metadata": {},
   "outputs": [],
   "source": [
    "# Instantiate the solver\n",
    "solver = ProblemSolver(\n",
    "        story=story,\n",
    "        question=question,\n",
    "        choices=choices,\n",
    "        K=1,\n",
    "        assigned_model=[],\n",
    "        model_name=\"automated\",\n",
    "        episode_name=episode_name,\n",
    "        llm=\"gpt-4o\",\n",
    "        verbose=verbose,\n",
    "        dataset_name=dataset_name,\n",
    "        hypo_method=\"guided\",\n",
    "        nested=False,\n",
    "        video_id=None,\n",
    "        answerfunc=argmax,\n",
    "        back_inference=True,\n",
    "        reduce_hypotheses=True,\n",
    "        precomputed_states=None,\n",
    "        precomputed_actions=None,\n",
    "        prev_hyp=None,\n",
    "        no_model_adjustment=False,\n",
    "        recursion_depth=None\n",
    "    )"
   ]
  },
  {
   "cell_type": "code",
   "execution_count": 4,
   "metadata": {},
   "outputs": [
    {
     "name": "stdout",
     "output_type": "stream",
     "text": [
      "Initial Model proposed:  ['State', 'Observation', 'Belief']\n",
      "Starting from timestep 3\n",
      "Node results saved to ../results/node_results/automated_test_0_back1_reduce1.csv\n",
      "\u001b[92mAfter time 3: Ella's Belief Probs calculated as ['Ella will look for the onion in the envelope.', 'Ella will look for the onion in the box.'], [0.5, 0.5]\u001b[0m\n",
      "Initial Terminate:  False\n",
      "Initial Utility:  -0.6931471805599453\n",
      "Node results saved to ../results/node_results/automated_test_0_back1_reduce1.csv\n",
      "\u001b[92mAfter time 3: Ella's Belief Probs calculated as ['Ella will look for the onion in the envelope.', 'Ella will look for the onion in the box.'], [0.5, 0.5]\u001b[0m\n",
      "Model test:  ['State', 'Observation', 'Belief', 'Action', 'Goal']\n",
      "Model test results:  [0.5, 0.5]\n",
      "Initial Utility:  -0.6931471805599453\n",
      "Utility Experiments:  {'Action': np.float64(-0.6931471805599453)}\n",
      "Starting from timestep 2\n",
      "\u001b[92mAfter time 2: Belief Probs Updated to ['Ella will look for the onion in the envelope.', 'Ella will look for the onion in the box.'], [0.5, 0.5]\u001b[0m\n",
      "Node results saved to ../results/node_results/automated_test_0_back1_reduce1.csv\n",
      "\u001b[92mAfter time 3: Ella's Belief Probs calculated as ['Ella will look for the onion in the envelope.', 'Ella will look for the onion in the box.'], [0.5, 0.5000000000000001]\u001b[0m\n",
      "Initial Terminate:  False\n",
      "Initial Utility:  -0.6931471805599452\n",
      "\u001b[92mAfter time 2: Belief Probs Updated to ['Ella will look for the onion in the envelope.', 'Ella will look for the onion in the box.'], [0.5, 0.5]\u001b[0m\n",
      "Node results saved to ../results/node_results/automated_test_0_back1_reduce1.csv\n",
      "\u001b[92mAfter time 3: Ella's Belief Probs calculated as ['Ella will look for the onion in the envelope.', 'Ella will look for the onion in the box.'], [0.5, 0.5000000000000001]\u001b[0m\n",
      "Model test:  ['State', 'Observation', 'Belief', 'Action', 'Goal']\n",
      "Model test results:  [0.5, 0.5000000000000001]\n",
      "Initial Utility:  -0.6931471805599452\n",
      "Utility Experiments:  {'Action': np.float64(-0.6931471805599452)}\n",
      "Starting from timestep 1\n",
      "\u001b[91mAccumulated Cost of Estimating Likelihood: 0.008440000000000001 in 10 times\u001b[0m\n",
      "\u001b[92mAfter time 1: Belief Probs Updated to ['Ella will look for the onion in the envelope.', 'Ella will look for the onion in the box.'], [0.968802194188266, 0.031197805811733967]\u001b[0m\n",
      "\u001b[92mAfter time 2: Belief Probs Updated to ['Ella will look for the onion in the envelope.', 'Ella will look for the onion in the box.'], [0.9414933285073962, 0.058506671492603836]\u001b[0m\n",
      "Node results saved to ../results/node_results/automated_test_0_back1_reduce1.csv\n",
      "\u001b[92mAfter time 3: Ella's Belief Probs calculated as ['Ella will look for the onion in the envelope.', 'Ella will look for the onion in the box.'], [0.9157752705360915, 0.08422472946390847]\u001b[0m\n",
      "Probs results saved to ../results/probs/automated_test_0.csv\n",
      "Initial Terminate:  True\n",
      "{'Initial model propose': ['State', 'Observation', 'Belief'], 'Assigned models': {3: ['State', 'Observation', 'Belief'], 2: ['State', 'Observation', 'Belief'], 1: ['State', 'Observation', 'Belief']}}\n"
     ]
    }
   ],
   "source": [
    "# Execute the solver\n",
    "final_probs, model_record = solver.solve()"
   ]
  },
  {
   "cell_type": "code",
   "execution_count": 5,
   "metadata": {},
   "outputs": [
    {
     "name": "stdout",
     "output_type": "stream",
     "text": [
      "['envelope', 'box'] [0.9157752705360915, 0.08422472946390847]\n"
     ]
    }
   ],
   "source": [
    "print(choices, final_probs)"
   ]
  },
  {
   "cell_type": "code",
   "execution_count": null,
   "metadata": {},
   "outputs": [],
   "source": []
  }
 ],
 "metadata": {
  "kernelspec": {
   "display_name": ".venv",
   "language": "python",
   "name": "python3"
  },
  "language_info": {
   "codemirror_mode": {
    "name": "ipython",
    "version": 3
   },
   "file_extension": ".py",
   "mimetype": "text/x-python",
   "name": "python",
   "nbconvert_exporter": "python",
   "pygments_lexer": "ipython3",
   "version": "3.12.11"
  }
 },
 "nbformat": 4,
 "nbformat_minor": 2
}
